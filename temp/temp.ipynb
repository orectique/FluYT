{
 "cells": [
  {
   "cell_type": "code",
   "execution_count": 1,
   "metadata": {},
   "outputs": [],
   "source": [
    "from __future__ import unicode_literals\n",
    "import youtube_dl"
   ]
  },
  {
   "cell_type": "code",
   "execution_count": 2,
   "metadata": {},
   "outputs": [],
   "source": [
    "ydl_opts = {\n",
    "    'format': 'bestaudio/best',\n",
    "    'postprocessors': [{\n",
    "        'key': 'FFmpegExtractAudio',\n",
    "        'preferredcodec': 'mp3',\n",
    "        'preferredquality': '192',\n",
    "    }],\n",
    "}"
   ]
  },
  {
   "cell_type": "code",
   "execution_count": 3,
   "metadata": {},
   "outputs": [
    {
     "name": "stdout",
     "output_type": "stream",
     "text": [
      "[youtube] qHOjMgcBjJA: Downloading webpage\n",
      "[download] MICROSOFT TEAMS RINGTONE (MOBILE)-qHOjMgcBjJA.m4a has already been downloaded\n",
      "[download] 100% of 523.31KiB\n",
      "[ffmpeg] Correcting container in \"MICROSOFT TEAMS RINGTONE (MOBILE)-qHOjMgcBjJA.m4a\"\n",
      "[ffmpeg] Destination: MICROSOFT TEAMS RINGTONE (MOBILE)-qHOjMgcBjJA.mp3\n",
      "Deleting original file MICROSOFT TEAMS RINGTONE (MOBILE)-qHOjMgcBjJA.m4a (pass -k to keep)\n",
      "[youtube] mw2kKyJu9gY: Downloading webpage\n",
      "[youtube] mw2kKyJu9gY: Downloading player 534c466c\n",
      "[download] Destination: AWOLNATION - Run (Audio)-mw2kKyJu9gY.m4a\n",
      "[download] 100% of 3.74MiB in 01:17                 \n",
      "[ffmpeg] Correcting container in \"AWOLNATION - Run (Audio)-mw2kKyJu9gY.m4a\"\n",
      "[ffmpeg] Destination: AWOLNATION - Run (Audio)-mw2kKyJu9gY.mp3\n",
      "Deleting original file AWOLNATION - Run (Audio)-mw2kKyJu9gY.m4a (pass -k to keep)\n",
      "[youtube] btPJPFnesV4: Downloading webpage\n",
      "[download] Destination: Survivor - Eye Of The Tiger (Official HD Video)-btPJPFnesV4.webm\n",
      "[download] 100% of 3.84MiB in 00:48                  \n",
      "[ffmpeg] Destination: Survivor - Eye Of The Tiger (Official HD Video)-btPJPFnesV4.mp3\n",
      "Deleting original file Survivor - Eye Of The Tiger (Official HD Video)-btPJPFnesV4.webm (pass -k to keep)\n",
      "[youtube] y6120QOlsfU: Downloading webpage\n",
      "[download] Destination: Darude - Sandstorm-y6120QOlsfU.m4a\n",
      "[download] 100% of 3.59MiB in 01:07                 \n",
      "[ffmpeg] Correcting container in \"Darude - Sandstorm-y6120QOlsfU.m4a\"\n",
      "[ffmpeg] Destination: Darude - Sandstorm-y6120QOlsfU.mp3\n",
      "Deleting original file Darude - Sandstorm-y6120QOlsfU.m4a (pass -k to keep)\n"
     ]
    }
   ],
   "source": [
    "with youtube_dl.YoutubeDL(ydl_opts) as ydl:\n",
    "    ydl.download(['https://youtu.be/qHOjMgcBjJA', 'https://youtu.be/mw2kKyJu9gY', 'https://youtu.be/btPJPFnesV4', 'https://youtu.be/y6120QOlsfU'])"
   ]
  },
  {
   "cell_type": "code",
   "execution_count": null,
   "metadata": {},
   "outputs": [],
   "source": []
  }
 ],
 "metadata": {
  "interpreter": {
   "hash": "481fc7cd6916251f71dc8a976626aa70713b9aa6abd7a29295681691c182dc77"
  },
  "kernelspec": {
   "display_name": "Python 3.10.4 ('env')",
   "language": "python",
   "name": "python3"
  },
  "language_info": {
   "codemirror_mode": {
    "name": "ipython",
    "version": 3
   },
   "file_extension": ".py",
   "mimetype": "text/x-python",
   "name": "python",
   "nbconvert_exporter": "python",
   "pygments_lexer": "ipython3",
   "version": "3.10.4"
  },
  "orig_nbformat": 4
 },
 "nbformat": 4,
 "nbformat_minor": 2
}
